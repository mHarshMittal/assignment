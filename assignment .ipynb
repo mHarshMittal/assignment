{
 "cells": [
  {
   "cell_type": "markdown",
   "id": "23226841-ef28-4b44-951a-071b193cd22e",
   "metadata": {},
   "source": [
    "ques 1   How do you comment code in Python? What are the different types of comments?"
   ]
  },
  {
   "cell_type": "markdown",
   "id": "79245b45-fae8-4b3b-88d2-8f22bde8d805",
   "metadata": {},
   "source": [
    "In Python, you can add comments to your code to provide explanations, document your code, or disable certain lines of code temporarily.\n",
    "Python supports two types of comments: single-line comments and multi-line comments.\n",
    "Single-line comments: To add a comment that spans a single line, you can use the # character. \n",
    "Multi-line comments: To add comments that span multiple lines, you can use triple quotes (''' or \"\"\") to enclose the comment block.\n"
   ]
  },
  {
   "cell_type": "markdown",
   "id": "d02cd293-3c31-485a-8f03-e38b48a69e46",
   "metadata": {},
   "source": [
    "Q2. What are variables in Python? How do you declare and assign values to variables?"
   ]
  },
  {
   "cell_type": "markdown",
   "id": "b5f85e5e-919e-498c-9196-0cefb8e60b19",
   "metadata": {},
   "source": [
    "in Python, variables are used to store and refer to values or data. \n",
    "A variable is essentially a named location in memory where you can store different types of data, such as numbers, strings, or objects.\n",
    "You can manipulate and access the stored data by using the variable name in your code.\n",
    "\n",
    "To declare a variable in Python, you simply choose a name for the variable and use the assignment operator (=) to assign a value to it."
   ]
  },
  {
   "cell_type": "markdown",
   "id": "05cce6e2-73b3-4b3c-bb60-8f06be0c7c86",
   "metadata": {},
   "source": [
    "ques    How do you convert one data type to another in Python?"
   ]
  },
  {
   "cell_type": "raw",
   "id": "591a9a6a-4250-4c4a-9d0c-fd3ab8ad7704",
   "metadata": {},
   "source": [
    "In Python, you can convert one data type to another using type conversion or type casting\n",
    "int(): Converts a value to an integer data type.\n",
    "float(): Converts a value to a floating-point data type.\n",
    "str(): Converts a value to a string data type.\n",
    "bool(): Converts a value to a boolean data type."
   ]
  },
  {
   "cell_type": "markdown",
   "id": "a314d6fa-bea2-4b25-93fc-6ad66d221043",
   "metadata": {},
   "source": [
    "Q4. How do you write and execute a Python script from the command line?"
   ]
  },
  {
   "cell_type": "raw",
   "id": "53727fa7-d914-4448-8652-8d338cd13574",
   "metadata": {},
   "source": [
    "Open a text editor and create a new file. \n",
    "Write your Python code in the text file\n",
    "Save the file with a .py extension. \n",
    "Open a command-line interface\n",
    "Navigate to the directory where you saved your Python script. Use the cd command to change the directory\n",
    "Run the Python script. To execute the Python script, use the python command followed by the script's filename"
   ]
  },
  {
   "cell_type": "markdown",
   "id": "24cbcdc2-d8a1-4fdb-8340-7987ffaf8661",
   "metadata": {},
   "source": [
    "Q5. Given a list my_list = [1, 2, 3, 4, 5], write the code to slice the list and obtain the sub-list [2, 3]."
   ]
  },
  {
   "cell_type": "code",
   "execution_count": 3,
   "id": "4529aafc-7fbe-453a-952c-98636f6a800a",
   "metadata": {},
   "outputs": [
    {
     "name": "stdout",
     "output_type": "stream",
     "text": [
      "[2, 3]\n"
     ]
    }
   ],
   "source": [
    "my_list = [1, 2, 3, 4, 5]\n",
    "sub_list = my_list[1:3]\n",
    "print(sub_list)  # Output: [2, 3]\n"
   ]
  },
  {
   "cell_type": "markdown",
   "id": "c9b56a05-64e7-4509-b74a-9e984695df25",
   "metadata": {},
   "source": [
    "Q6. What is a complex number in mathematics, and how is it represented in Python?\n"
   ]
  },
  {
   "cell_type": "raw",
   "id": "ed8f6d2b-5880-404a-9464-5a739079f994",
   "metadata": {},
   "source": [
    "a complex number is a number that comprises both a real part and an imaginary part.\n",
    "It is represented in the form a + bi, where a represents the real part and b represents the imaginary part\n",
    "In Python, complex numbers can be represented using the built-in complex data type.\n",
    "The syntax for creating a complex number is a + bj, where a represents the real part and b represents the imaginary part."
   ]
  },
  {
   "cell_type": "markdown",
   "id": "aaec442f-7a64-442a-b9f3-8480a682b7ca",
   "metadata": {},
   "source": [
    "Q7. What is the correct way to declare a variable named age and assign the value 25 to it?"
   ]
  },
  {
   "cell_type": "code",
   "execution_count": 5,
   "id": "21418dd4-e9fb-46aa-a31b-19a35c27d73e",
   "metadata": {},
   "outputs": [],
   "source": [
    "age = 25\n"
   ]
  },
  {
   "cell_type": "markdown",
   "id": "00dd02ca-2eea-4558-9cc7-13875d1f7d22",
   "metadata": {},
   "source": [
    "Q8. Declare a variable named price and assign the value 9.99 to it. What data type does this variable\n",
    "belong to?"
   ]
  },
  {
   "cell_type": "raw",
   "id": "90b47bd1-f16e-43a0-bd8d-3678e725a131",
   "metadata": {},
   "source": [
    "price = 9.99\n",
    "float"
   ]
  },
  {
   "cell_type": "markdown",
   "id": "aa23fce4-5c61-4e0c-8c93-25fc313acf8d",
   "metadata": {},
   "source": [
    "Q9. Create a variable named name and assign your full name to it as a string. How would you print the\n",
    "value of this variable?"
   ]
  },
  {
   "cell_type": "code",
   "execution_count": 7,
   "id": "ad04efa6-2dde-49b7-9d1b-bdd594346824",
   "metadata": {},
   "outputs": [
    {
     "name": "stdout",
     "output_type": "stream",
     "text": [
      "harsh mittal\n"
     ]
    }
   ],
   "source": [
    "name = \"harsh mittal\"\n",
    "print(name)\n"
   ]
  },
  {
   "cell_type": "markdown",
   "id": "45878bd4-d968-406a-83e2-bf88161db7b7",
   "metadata": {},
   "source": [
    "Q10. Given the string \"Hello, World!\", extract the substring \"World\"."
   ]
  },
  {
   "cell_type": "code",
   "execution_count": 8,
   "id": "2085e355-4d55-4010-a8b8-66e4d8136259",
   "metadata": {},
   "outputs": [
    {
     "name": "stdout",
     "output_type": "stream",
     "text": [
      "World\n"
     ]
    }
   ],
   "source": [
    "string = \"Hello, World!\"\n",
    "substring = string[7:12]\n",
    "print(substring)  # Output: World\n"
   ]
  },
  {
   "cell_type": "markdown",
   "id": "babee42f-8eb8-46b5-9edf-2cc6ada105c6",
   "metadata": {},
   "source": [
    "Q11. Create a variable named \"is_student\" and assign it a boolean value indicating whether you are\n",
    "currently a student or not."
   ]
  },
  {
   "cell_type": "code",
   "execution_count": 9,
   "id": "9e2228ca-aee0-4adc-998d-b3edb9febf2c",
   "metadata": {},
   "outputs": [],
   "source": [
    "is_student = True\n",
    "is_student = False\n",
    "\n"
   ]
  },
  {
   "cell_type": "code",
   "execution_count": null,
   "id": "e9cb1422-2935-4d8a-bf6e-ca25968f4cd5",
   "metadata": {},
   "outputs": [],
   "source": []
  }
 ],
 "metadata": {
  "kernelspec": {
   "display_name": "Python 3 (ipykernel)",
   "language": "python",
   "name": "python3"
  },
  "language_info": {
   "codemirror_mode": {
    "name": "ipython",
    "version": 3
   },
   "file_extension": ".py",
   "mimetype": "text/x-python",
   "name": "python",
   "nbconvert_exporter": "python",
   "pygments_lexer": "ipython3",
   "version": "3.10.8"
  }
 },
 "nbformat": 4,
 "nbformat_minor": 5
}
